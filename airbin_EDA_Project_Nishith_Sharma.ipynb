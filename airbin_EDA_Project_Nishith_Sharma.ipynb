{
  "nbformat": 4,
  "nbformat_minor": 0,
  "metadata": {
    "colab": {
      "private_outputs": true,
      "provenance": [],
      "collapsed_sections": [
        "MSa1f5Uengrz",
        "GF8Ens_Soomf",
        "fge-S5ZAYoAp",
        "85gYPyotYoAp",
        "RoGjAbkUYoAp",
        "4Of9eVA-YrdM",
        "iky9q4vBYrdO",
        "F6T5p64dYrdO",
        "y-Ehk30pYrdP",
        "bamQiAODYuh1",
        "QHF8YVU7Yuh3",
        "GwzvFGzlYuh3",
        "qYpmQ266Yuh3",
        "OH-pJp9IphqM",
        "bbFf2-_FphqN",
        "_ouA3fa0phqN",
        "Seke61FWphqN",
        "PIIx-8_IphqN",
        "t27r6nlMphqO",
        "r2jJGEOYphqO",
        "b0JNsNcRphqO",
        "BZR9WyysphqO",
        "jj7wYXLtphqO",
        "eZrbJ2SmphqO",
        "rFu4xreNphqO",
        "YJ55k-q6phqO",
        "gCFgpxoyphqP",
        "OVtJsKN_phqQ",
        "lssrdh5qphqQ",
        "U2RJ9gkRphqQ",
        "1M8mcRywphqQ",
        "tgIPom80phqQ",
        "JMzcOPDDphqR",
        "x-EpHcCOp1ci",
        "X_VqEhTip1ck",
        "8zGJKyg5p1ck",
        "PVzmfK_Ep1ck",
        "n3dbpmDWp1ck",
        "ylSl6qgtp1ck",
        "ZWILFDl5p1ck",
        "M7G43BXep1ck",
        "Ag9LCva-p1cl",
        "E6MkPsBcp1cl",
        "2cELzS2fp1cl",
        "3MPXvC8up1cl",
        "NC_X3p0fY2L0",
        "UV0SzAkaZNRQ",
        "YPEH6qLeZNRQ",
        "q29F0dvdveiT",
        "EXh0U9oCveiU",
        "22aHeOlLveiV",
        "JcMwzZxoAimU",
        "8G2x9gOozGDZ",
        "gCX9965dhzqZ",
        "gIfDvo9L0UH2"
      ]
    },
    "kernelspec": {
      "name": "python3",
      "display_name": "Python 3"
    },
    "language_info": {
      "name": "python"
    }
  },
  "cells": [
    {
      "cell_type": "markdown",
      "source": [
        "# **Project Name**    -\n",
        "\n"
      ],
      "metadata": {
        "id": "vncDsAP0Gaoa"
      }
    },
    {
      "cell_type": "markdown",
      "source": [
        "##### **Project Type**    - EDA\n",
        "##### **Contribution**    - Individual\n",
        "##### **Team Member 1 -** - Nishith Sharma\n"
      ],
      "metadata": {
        "id": "beRrZCGUAJYm"
      }
    },
    {
      "cell_type": "markdown",
      "source": [
        "# **Project Summary -**"
      ],
      "metadata": {
        "id": "FJNUwmbgGyua"
      }
    },
    {
      "cell_type": "markdown",
      "source": [
        "Since its inception in 2008, Airbnb has revolutionized the travel industry by providing a unique and personalized way for guests to experience the world. Today, Airbnb is a globally recognized service, catering to millions of users. The platform's vast database, consisting of millions of listings, is a goldmine for data analysis. Analyzing this data is crucial for enhancing security, making informed business decisions, understanding customer and host behavior, improving performance, guiding marketing initiatives, and implementing innovative services.\n",
        "\n",
        "The dataset in question comprises approximately 49,000 observations with 16 columns, containing a mix of categorical and numeric values. This dataset offers a comprehensive view of Airbnb listings, which can be leveraged to gain valuable insights into various aspects of the platform's operations and user interactions.\n"
      ],
      "metadata": {
        "id": "WvgkNUFi5FcE"
      }
    },
    {
      "cell_type": "markdown",
      "source": [
        "# **GitHub Link -**"
      ],
      "metadata": {
        "id": "w6K7xa23Elo4"
      }
    },
    {
      "cell_type": "markdown",
      "source": [
        "Provide your GitHub Link here."
      ],
      "metadata": {
        "id": "h1o69JH3Eqqn"
      }
    },
    {
      "cell_type": "markdown",
      "source": [
        "# **Problem Statement**\n"
      ],
      "metadata": {
        "id": "yQaldy8SH6Dl"
      }
    },
    {
      "cell_type": "markdown",
      "source": [
        "Understanding Listing Characteristics: Identify patterns and trends in the types of properties listed on Airbnb, including location, property type, price range, and availability.\n",
        "\n",
        "Customer and Host Behavior: Analyze customer booking patterns and host activity to understand behavior and performance. This includes examining booking frequency, duration of stays, and customer reviews.\n",
        "\n",
        "Market Segmentation: Segment the market based on listing attributes and user behavior to identify distinct groups and tailor marketing strategies accordingly.\n",
        "\n",
        "Performance Metrics: Evaluate key performance metrics such as occupancy rates, revenue generation, and customer satisfaction to assess the overall health of the platform.\n",
        "\n",
        "Security and Trust: Identify potential risks and anomalies in the data that could impact the security and trustworthiness of the platform. This includes detecting fraudulent listings or suspicious user activity.\n",
        "\n",
        "Enhancing User Experience: Use the insights gained to suggest improvements to the platform that enhance the user experience for both guests and hosts. This could involve recommendations for new features, optimizing the booking process, or improving customer support.\n",
        "\n",
        "By addressing these goals, the analysis will provide a comprehensive understanding of Airbnb's operations and user interactions, enabling the company to make data-driven decisions that foster growth and innovation."
      ],
      "metadata": {
        "id": "DpeJGUA3kjGy"
      }
    },
    {
      "cell_type": "markdown",
      "source": [
        "#### **Define Your Business Objective?**"
      ],
      "metadata": {
        "id": "PH-0ReGfmX4f"
      }
    },
    {
      "cell_type": "markdown",
      "source": [
        "The business objective of this analysis is to leverage data-driven insights from the Airbnb dataset to enhance the platform's operational efficiency, customer satisfaction, and overall market competitiveness. By thoroughly examining the dataset, the aim is to achieve the following:\n",
        "\n",
        "Optimize Listing Management:\n",
        "\n",
        "Identify the most popular types of properties and locations to help hosts optimize their listings and attract more bookings. Provide data-driven recommendations to hosts on pricing strategies and property improvements to maximize occupancy and revenue. Enhance User Experience:\n",
        "\n",
        "Improve the booking process by understanding guest preferences and behavior patterns, leading to a more personalized and seamless user experience. Identify and mitigate potential risks to enhance the security and trustworthiness of the platform for both guests and hosts. Drive Marketing and Growth Strategies:\n",
        "\n",
        "Segment the market effectively to tailor marketing campaigns and promotions that resonate with different user groups, driving increased engagement and bookings. Analyze customer feedback and reviews to understand areas of improvement and implement changes that boost customer satisfaction and loyalty. Improve Operational Efficiency:\n",
        "\n",
        "Monitor and analyze key performance metrics to identify areas where operational efficiencies can be improved, reducing costs and enhancing service delivery. Use predictive analytics to forecast demand trends and optimize resource allocation, ensuring the platform is well-prepared to meet future needs. Innovate and Expand Services:\n",
        "\n",
        "Identify opportunities for introducing new services or features that cater to emerging customer needs and preferences, staying ahead of competitors in the market. Utilize insights from data analysis to support the development and implementation of innovative solutions that enhance the overall value proposition of Airbnb. By achieving these objectives, Airbnb aims to strengthen its market position, drive sustained growth, and provide exceptional value to its users, ultimately contributing to the long-term success and sustainability of the platform."
      ],
      "metadata": {
        "id": "PhDvGCAqmjP1"
      }
    },
    {
      "cell_type": "markdown",
      "source": [
        "# **General Guidelines** : -  "
      ],
      "metadata": {
        "id": "mDgbUHAGgjLW"
      }
    },
    {
      "cell_type": "markdown",
      "source": [
        "1.   Well-structured, formatted, and commented code is required.\n",
        "2.   Exception Handling, Production Grade Code & Deployment Ready Code will be a plus. Those students will be awarded some additional credits.\n",
        "     \n",
        "     The additional credits will have advantages over other students during Star Student selection.\n",
        "       \n",
        "             [ Note: - Deployment Ready Code is defined as, the whole .ipynb notebook should be executable in one go\n",
        "                       without a single error logged. ]\n",
        "\n",
        "3.   Each and every logic should have proper comments.\n",
        "4. You may add as many number of charts you want. Make Sure for each and every chart the following format should be answered.\n",
        "        \n",
        "\n",
        "```\n",
        "# Chart visualization code\n",
        "```\n",
        "            \n",
        "\n",
        "*   Why did you pick the specific chart?\n",
        "*   What is/are the insight(s) found from the chart?\n",
        "* Will the gained insights help creating a positive business impact?\n",
        "Are there any insights that lead to negative growth? Justify with specific reason.\n",
        "\n",
        "5. You have to create at least 20 logical & meaningful charts having important insights.\n",
        "\n",
        "\n",
        "[ Hints : - Do the Vizualization in  a structured way while following \"UBM\" Rule.\n",
        "\n",
        "U - Univariate Analysis,\n",
        "\n",
        "B - Bivariate Analysis (Numerical - Categorical, Numerical - Numerical, Categorical - Categorical)\n",
        "\n",
        "M - Multivariate Analysis\n",
        " ]\n",
        "\n",
        "\n",
        "\n"
      ],
      "metadata": {
        "id": "ZrxVaUj-hHfC"
      }
    },
    {
      "cell_type": "markdown",
      "source": [
        "# ***Let's Begin !***"
      ],
      "metadata": {
        "id": "O_i_v8NEhb9l"
      }
    },
    {
      "cell_type": "markdown",
      "source": [
        "## ***1. Know Your Data***"
      ],
      "metadata": {
        "id": "HhfV-JJviCcP"
      }
    },
    {
      "cell_type": "markdown",
      "source": [
        "### Import Libraries"
      ],
      "metadata": {
        "id": "Y3lxredqlCYt"
      }
    },
    {
      "cell_type": "code",
      "source": [
        "# Import Libraries\n",
        "\n",
        "from bs4 import BeautifulSoup\n",
        "\n",
        "import pandas as pd\n",
        "import numpy as np\n",
        "from numpy import math\n",
        "import time\n",
        "from wordcloud import WordCloud\n",
        "import matplotlib.pyplot as plt\n",
        "import seaborn as sns\n"
      ],
      "metadata": {
        "id": "M8Vqi-pPk-HR"
      },
      "execution_count": null,
      "outputs": []
    },
    {
      "cell_type": "markdown",
      "source": [
        "### Dataset Loading"
      ],
      "metadata": {
        "id": "3RnN4peoiCZX"
      }
    },
    {
      "cell_type": "code",
      "source": [
        "# Load Dataset\n",
        "from google.colab import drive\n",
        "drive.mount('/content/drive')"
      ],
      "metadata": {
        "id": "4CkvbW_SlZ_R"
      },
      "execution_count": null,
      "outputs": []
    },
    {
      "cell_type": "code",
      "source": [
        "path = '/content/drive/MyDrive/Airbnb NYC 2019.csv'\n",
        "# load csv file\n",
        "data = pd.read_csv(path)"
      ],
      "metadata": {
        "id": "zyfXPQIf3JnK"
      },
      "execution_count": null,
      "outputs": []
    },
    {
      "cell_type": "markdown",
      "source": [
        "### Dataset First View"
      ],
      "metadata": {
        "id": "x71ZqKXriCWQ"
      }
    },
    {
      "cell_type": "code",
      "source": [
        "# Dataset First Look\n",
        "data"
      ],
      "metadata": {
        "id": "LWNFOSvLl09H"
      },
      "execution_count": null,
      "outputs": []
    },
    {
      "cell_type": "code",
      "source": [
        "data.head()"
      ],
      "metadata": {
        "id": "6caKRhBe39Kw"
      },
      "execution_count": null,
      "outputs": []
    },
    {
      "cell_type": "code",
      "source": [
        "data.tail()"
      ],
      "metadata": {
        "id": "erZzqYGV4AGo"
      },
      "execution_count": null,
      "outputs": []
    },
    {
      "cell_type": "markdown",
      "source": [
        "### Dataset Rows & Columns count"
      ],
      "metadata": {
        "id": "7hBIi_osiCS2"
      }
    },
    {
      "cell_type": "code",
      "source": [
        "# Dataset Rows & Columns count\n",
        "data.shape"
      ],
      "metadata": {
        "id": "Kllu7SJgmLij"
      },
      "execution_count": null,
      "outputs": []
    },
    {
      "cell_type": "markdown",
      "source": [
        "### Dataset Information"
      ],
      "metadata": {
        "id": "JlHwYmJAmNHm"
      }
    },
    {
      "cell_type": "code",
      "source": [
        "# Dataset Info\n",
        "data.info()"
      ],
      "metadata": {
        "id": "e9hRXRi6meOf"
      },
      "execution_count": null,
      "outputs": []
    },
    {
      "cell_type": "markdown",
      "source": [
        "#### Duplicate Values"
      ],
      "metadata": {
        "id": "35m5QtbWiB9F"
      }
    },
    {
      "cell_type": "code",
      "source": [
        "# Dataset Duplicate Value Count\n",
        "data.duplicated().sum()"
      ],
      "metadata": {
        "id": "1sLdpKYkmox0"
      },
      "execution_count": null,
      "outputs": []
    },
    {
      "cell_type": "markdown",
      "source": [
        "#### Missing Values/Null Values"
      ],
      "metadata": {
        "id": "PoPl-ycgm1ru"
      }
    },
    {
      "cell_type": "code",
      "source": [
        "# Missing Values/Null Values Count\n",
        "data.isnull().sum()"
      ],
      "metadata": {
        "id": "GgHWkxvamxVg"
      },
      "execution_count": null,
      "outputs": []
    },
    {
      "cell_type": "code",
      "source": [
        "# Missing Values/Null Values Count\n",
        "data.isna().sum().sort_values(ascending=False)[:4]"
      ],
      "metadata": {
        "id": "e_J8UZD811_L"
      },
      "execution_count": null,
      "outputs": []
    },
    {
      "cell_type": "code",
      "source": [
        "# Visualizing the missing values\n",
        "missing_values_count = data.isna().sum()\n",
        "# Create a bar plot to visualize missing values\n",
        "plt.figure(figsize=(10, 6))\n",
        "sns.barplot(x=missing_values_count.index, y=missing_values_count.values, palette='rocket')\n",
        "plt.xlabel('Columns')\n",
        "plt.ylabel('Count of Missing Values')\n",
        "plt.title('Missing Values in Dataset')\n",
        "plt.xticks(rotation=90)  # Rotate x-axis labels for better visibility\n",
        "plt.show()"
      ],
      "metadata": {
        "id": "3q5wnI3om9sJ",
        "collapsed": true
      },
      "execution_count": null,
      "outputs": []
    },
    {
      "cell_type": "markdown",
      "source": [
        "### What did you know about your dataset?"
      ],
      "metadata": {
        "id": "H0kj-8xxnORC"
      }
    },
    {
      "cell_type": "markdown",
      "source": [
        "The dataset contains 48895 rows and 16 columns.\n",
        "\n",
        "The name column has 16 missing values.\n",
        "\n",
        "The host_name column has 21 missing values.\n",
        "\n",
        "The last_review column has 10,052 missing values.\n",
        "\n",
        "The reviews_per_month column has 10,052 missing values."
      ],
      "metadata": {
        "id": "gfoNAAC-nUe_"
      }
    },
    {
      "cell_type": "markdown",
      "source": [
        "## ***2. Understanding Your Variables***"
      ],
      "metadata": {
        "id": "nA9Y7ga8ng1Z"
      }
    },
    {
      "cell_type": "code",
      "source": [
        "# Dataset Columns\n",
        "data.columns"
      ],
      "metadata": {
        "id": "j7xfkqrt5Ag5"
      },
      "execution_count": null,
      "outputs": []
    },
    {
      "cell_type": "code",
      "source": [
        "# Dataset Describe\n",
        "data.describe()"
      ],
      "metadata": {
        "id": "DnOaZdaE5Q5t"
      },
      "execution_count": null,
      "outputs": []
    },
    {
      "cell_type": "markdown",
      "source": [
        "### Variables Description"
      ],
      "metadata": {
        "id": "PBTbrJXOngz2"
      }
    },
    {
      "cell_type": "markdown",
      "source": [
        "All the numerical variables of the dataset is having a good range of values , except for minimum_nights and calculated_host_listings_count have very high maximum values, which seems to be incorrect. So we will handle it while proceeding with EDA."
      ],
      "metadata": {
        "id": "aJV4KIxSnxay"
      }
    },
    {
      "cell_type": "markdown",
      "source": [
        "### Check Unique Values for each variable."
      ],
      "metadata": {
        "id": "u3PMJOP6ngxN"
      }
    },
    {
      "cell_type": "code",
      "source": [
        "# Check Unique Values for each variable.\n",
        "for column in ['neighbourhood_group','neighbourhood','room_type']:\n",
        "    print(f'{column} : {data[column].unique()}')"
      ],
      "metadata": {
        "id": "zms12Yq5n-jE"
      },
      "execution_count": null,
      "outputs": []
    },
    {
      "cell_type": "code",
      "source": [
        "data['neighbourhood'].value_counts()"
      ],
      "metadata": {
        "id": "ZV2GqghNo9AA"
      },
      "execution_count": null,
      "outputs": []
    },
    {
      "cell_type": "code",
      "source": [
        "data['neighbourhood_group'].value_counts()"
      ],
      "metadata": {
        "id": "9EQbT32OouXK"
      },
      "execution_count": null,
      "outputs": []
    },
    {
      "cell_type": "code",
      "source": [
        "data['room_type'].value_counts()"
      ],
      "metadata": {
        "id": "QUZIrI6jpBba"
      },
      "execution_count": null,
      "outputs": []
    },
    {
      "cell_type": "markdown",
      "source": [
        "## 3. ***Data Wrangling***"
      ],
      "metadata": {
        "id": "dauF4eBmngu3"
      }
    },
    {
      "cell_type": "markdown",
      "source": [
        "### Data Wrangling Code"
      ],
      "metadata": {
        "id": "bKJF3rekwFvQ"
      }
    },
    {
      "cell_type": "code",
      "source": [
        "# Write your code to make your dataset analysis ready.\n",
        "data.info()"
      ],
      "metadata": {
        "id": "wk-9a2fpoLcV"
      },
      "execution_count": null,
      "outputs": []
    },
    {
      "cell_type": "code",
      "source": [
        "data['last_review'].head()"
      ],
      "metadata": {
        "id": "RouyscbFpT2s"
      },
      "execution_count": null,
      "outputs": []
    },
    {
      "cell_type": "code",
      "source": [
        "# Removing Null Values From last_review column and creating a new data frame\n",
        "data_review=data[~data[\"last_review\"].isna()]"
      ],
      "metadata": {
        "id": "K1La3I-9pjuc"
      },
      "execution_count": null,
      "outputs": []
    },
    {
      "cell_type": "code",
      "source": [
        "data_review.info()"
      ],
      "metadata": {
        "id": "SqzkX_s9qN9f"
      },
      "execution_count": null,
      "outputs": []
    },
    {
      "cell_type": "code",
      "source": [
        "data_review.head()"
      ],
      "metadata": {
        "id": "iGPY8zGNtFzS"
      },
      "execution_count": null,
      "outputs": []
    },
    {
      "cell_type": "code",
      "source": [
        "# Converting to datetime format\n",
        "data_review['last_review']=pd.to_datetime(data_review['last_review'])"
      ],
      "metadata": {
        "id": "-zPeOmhNtR9V"
      },
      "execution_count": null,
      "outputs": []
    },
    {
      "cell_type": "code",
      "source": [
        "data_review['last_review'].max()"
      ],
      "metadata": {
        "id": "V9aVi9nhtRry"
      },
      "execution_count": null,
      "outputs": []
    },
    {
      "cell_type": "code",
      "source": [
        "data_review['last_review'].min()"
      ],
      "metadata": {
        "id": "keIoa4eQtuDy"
      },
      "execution_count": null,
      "outputs": []
    },
    {
      "cell_type": "code",
      "source": [
        "# Creating a new column days_since_last_review\n",
        "data_review['days_since_last_review']=(data_review['last_review'].max()-data_review['last_review']).dt.days"
      ],
      "metadata": {
        "id": "Nf0W77Ugt3lZ"
      },
      "execution_count": null,
      "outputs": []
    },
    {
      "cell_type": "code",
      "source": [
        "data_review.head()"
      ],
      "metadata": {
        "id": "u4ZujBTvvIsp"
      },
      "execution_count": null,
      "outputs": []
    },
    {
      "cell_type": "code",
      "source": [
        "#Droping last_review and reviews_per_month\n",
        "data.drop(['last_review','reviews_per_month'],axis=1,inplace=True)"
      ],
      "metadata": {
        "id": "1y21uAW-vd_O"
      },
      "execution_count": null,
      "outputs": []
    },
    {
      "cell_type": "code",
      "source": [
        "data.info()"
      ],
      "metadata": {
        "id": "gxv4fW_6wC70"
      },
      "execution_count": null,
      "outputs": []
    },
    {
      "cell_type": "code",
      "source": [
        "#fill missing value\n",
        "data['name'].fillna('uknown',inplace=True)\n",
        "data['host_name'].fillna('uknown',inplace=True)"
      ],
      "metadata": {
        "id": "s-uBTqzgvyL3"
      },
      "execution_count": null,
      "outputs": []
    },
    {
      "cell_type": "code",
      "source": [
        "# cheacking total null value\n",
        "data.isnull().sum()"
      ],
      "metadata": {
        "id": "oNJBlgp-vyIR"
      },
      "execution_count": null,
      "outputs": []
    },
    {
      "cell_type": "markdown",
      "source": [
        "### What all manipulations have you done and insights you found?\n",
        "\n",
        "\n",
        "1.   Replaced non value of column name and host_name with \"unknown\".\n",
        "2. Deleted column last_review and reviews_per_month because it contains high null values around 10000.\n",
        "3. created a subset of data, data as data_review to analyse review related features seprately.\n",
        "4. created a new features \"days_since_last_review\" in data_review\n",
        "\n"
      ],
      "metadata": {
        "id": "MSa1f5Uengrz"
      }
    },
    {
      "cell_type": "markdown",
      "source": [
        "## ***4. Data Vizualization, Storytelling & Experimenting with charts : Understand the relationships between variables***"
      ],
      "metadata": {
        "id": "GF8Ens_Soomf"
      }
    },
    {
      "cell_type": "markdown",
      "source": [
        "# **Univariate analysis**"
      ],
      "metadata": {
        "id": "5nR3UjPSxpU7"
      }
    },
    {
      "cell_type": "code",
      "source": [
        "# Checking dataset information\n",
        "data.info()"
      ],
      "metadata": {
        "id": "TyTCS1hJx_gb"
      },
      "execution_count": null,
      "outputs": []
    },
    {
      "cell_type": "markdown",
      "source": [
        "#### Chart - 1"
      ],
      "metadata": {
        "id": "0wOQAZs5pc--"
      }
    },
    {
      "cell_type": "markdown",
      "source": [
        "**Box plot for numerical variables**"
      ],
      "metadata": {
        "id": "xUbaxh6SyNwG"
      }
    },
    {
      "cell_type": "code",
      "source": [
        "# Chart - 1 visualization code"
      ],
      "metadata": {
        "id": "7v_ESjsspbW7"
      },
      "execution_count": null,
      "outputs": []
    },
    {
      "cell_type": "code",
      "source": [
        "columns=list(data.columns[data.dtypes!='object'])\n",
        "print(columns)"
      ],
      "metadata": {
        "id": "mMLQofrczcR5"
      },
      "execution_count": null,
      "outputs": []
    },
    {
      "cell_type": "code",
      "source": [
        "columns.remove('id'),columns.remove('host_id')\n",
        "print(columns)"
      ],
      "metadata": {
        "id": "F0neqp_Iz65X"
      },
      "execution_count": null,
      "outputs": []
    },
    {
      "cell_type": "code",
      "source": [
        "fig,ax = plt.subplots(3,3, figsize=(14,10))\n",
        "ax = ax.flatten()  # Flatten the array to use single index\n",
        "\n",
        "for i,x in enumerate(columns):\n",
        "   sns.boxplot(data[x],color='pink',ax=ax[i])\n",
        "plt.tight_layout()\n",
        "plt.show()"
      ],
      "metadata": {
        "id": "Mk2cfNo60JI2"
      },
      "execution_count": null,
      "outputs": []
    },
    {
      "cell_type": "code",
      "source": [
        "# Checking the max value of minimum nights\n",
        "data['minimum_nights'].sort_values(ascending=False).reset_index().head(20)"
      ],
      "metadata": {
        "id": "KByjzQ8EiKiT"
      },
      "execution_count": null,
      "outputs": []
    },
    {
      "cell_type": "code",
      "source": [
        "#Checking counts of minimum_nights is equal to 365 days\n",
        "data[data['minimum_nights']==365].shape"
      ],
      "metadata": {
        "id": "oFpomj8JjNRb"
      },
      "execution_count": null,
      "outputs": []
    },
    {
      "cell_type": "code",
      "source": [
        "#Setting minimum_nights max values to 365 /Removing outliers\n",
        "data=data[data['minimum_nights']<=365]"
      ],
      "metadata": {
        "id": "1p84JJTVjf2G"
      },
      "execution_count": null,
      "outputs": []
    },
    {
      "cell_type": "code",
      "source": [
        "#Checking the max values of  calculated_host_listings_count.\n",
        "data['calculated_host_listings_count'].sort_values(ascending=False).reset_index().head(500)"
      ],
      "metadata": {
        "id": "fW2DoX3sjsvv"
      },
      "execution_count": null,
      "outputs": []
    },
    {
      "cell_type": "code",
      "source": [
        "#Setting calculated_host_listings_count max values to 150 /Removing outliers\n",
        "data=data[data['calculated_host_listings_count']<=150]"
      ],
      "metadata": {
        "id": "rIIp256Pj_wA"
      },
      "execution_count": null,
      "outputs": []
    },
    {
      "cell_type": "markdown",
      "source": [
        "##### 1. Why did you pick the specific chart?"
      ],
      "metadata": {
        "id": "K5QZ13OEpz2H"
      }
    },
    {
      "cell_type": "markdown",
      "source": [
        "To display the distribution of data based on a five-number summary."
      ],
      "metadata": {
        "id": "XESiWehPqBRc"
      }
    },
    {
      "cell_type": "markdown",
      "source": [
        "##### 2. What is/are the insight(s) found from the chart?"
      ],
      "metadata": {
        "id": "lQ7QKXXCp7Bj"
      }
    },
    {
      "cell_type": "markdown",
      "source": [
        "This provide a visual summary of the data, highlighting the median, quartiles, and potential outliers."
      ],
      "metadata": {
        "id": "C_j1G7yiqdRP"
      }
    },
    {
      "cell_type": "markdown",
      "source": [
        "##### 3. Will the gained insights help creating a positive business impact?\n",
        "Are there any insights that lead to negative growth? Justify with specific reason."
      ],
      "metadata": {
        "id": "448CDAPjqfQr"
      }
    },
    {
      "cell_type": "markdown",
      "source": [
        "Yes by removeing outliers we cleaned the data with correct range of values so that while finding the insights like average value , it will give correct value and not biast towards outliers."
      ],
      "metadata": {
        "id": "3cspy4FjqxJW"
      }
    },
    {
      "cell_type": "markdown",
      "source": [
        "#### Chart - 2"
      ],
      "metadata": {
        "id": "KSlN3yHqYklG"
      }
    },
    {
      "cell_type": "markdown",
      "source": [
        " **Histogram plot**"
      ],
      "metadata": {
        "id": "HyCoVOvtn2LT"
      }
    },
    {
      "cell_type": "code",
      "source": [
        "# Chart - 2 visualization code\n",
        "fig,ax = plt.subplots(3,3 , figsize=(12,8))\n",
        "ax = ax.flatten()  # Flatten the array to use single index\n",
        "\n",
        "for i,x in enumerate(columns):\n",
        "   sns.histplot(data[x],color = 'purple',bins=20,ax=ax[i])\n",
        "plt.tight_layout()\n",
        "plt.show()"
      ],
      "metadata": {
        "id": "R4YgtaqtYklH"
      },
      "execution_count": null,
      "outputs": []
    },
    {
      "cell_type": "markdown",
      "source": [
        "##### 1. Why did you pick the specific chart?"
      ],
      "metadata": {
        "id": "t6dVpIINYklI"
      }
    },
    {
      "cell_type": "markdown",
      "source": [
        "To visualise the distribution of dataset."
      ],
      "metadata": {
        "id": "5aaW0BYyYklI"
      }
    },
    {
      "cell_type": "markdown",
      "source": [
        "##### 2. What is/are the insight(s) found from the chart?"
      ],
      "metadata": {
        "id": "ijmpgYnKYklI"
      }
    },
    {
      "cell_type": "markdown",
      "source": [
        "\n",
        "\n",
        "1. Most of the data in our dataset is from a particular region and its not distributed evenly across all region given in the dataset.\n",
        "2. Price of most of the hotels are between 0 to 500 , but there are some exceptional cases also.\n",
        "3. Although all hotels are available throughout the year but there are some hotels also which are available for only around 20 days which may be seasonal bookings like summer vacations.\n",
        "\n",
        "\n"
      ],
      "metadata": {
        "id": "PSx9atu2YklI"
      }
    },
    {
      "cell_type": "markdown",
      "source": [
        "##### 3. Will the gained insights help creating a positive business impact?\n",
        "Are there any insights that lead to negative growth? Justify with specific reason."
      ],
      "metadata": {
        "id": "-JiQyfWJYklI"
      }
    },
    {
      "cell_type": "markdown",
      "source": [
        "Yes it will help to understand the data of different sectors and analyze them acordingly."
      ],
      "metadata": {
        "id": "BcBbebzrYklV"
      }
    },
    {
      "cell_type": "markdown",
      "source": [
        "**checking top 10 host_name and hotel_name on airbnb bold**"
      ],
      "metadata": {
        "id": "bhHHAGzxqDSA"
      }
    },
    {
      "cell_type": "code",
      "source": [
        "data['name'].value_counts().head(10)"
      ],
      "metadata": {
        "id": "pM9iXSbGqB4r"
      },
      "execution_count": null,
      "outputs": []
    },
    {
      "cell_type": "code",
      "source": [
        "data['host_name'].value_counts().head(10)"
      ],
      "metadata": {
        "id": "LCllQ0MtqXuQ"
      },
      "execution_count": null,
      "outputs": []
    },
    {
      "cell_type": "markdown",
      "source": [
        "#### Chart - 3"
      ],
      "metadata": {
        "id": "EM7whBJCYoAo"
      }
    },
    {
      "cell_type": "markdown",
      "source": [
        "**Bar Plot**"
      ],
      "metadata": {
        "id": "vTj-wTsgq4mV"
      }
    },
    {
      "cell_type": "code",
      "source": [
        "data.info()"
      ],
      "metadata": {
        "id": "_af_lGW3rFVw"
      },
      "execution_count": null,
      "outputs": []
    },
    {
      "cell_type": "code",
      "source": [
        "data['neighbourhood_group'].value_counts()"
      ],
      "metadata": {
        "id": "N-W1BbOsrLoz"
      },
      "execution_count": null,
      "outputs": []
    },
    {
      "cell_type": "code",
      "source": [
        "data['neighbourhood'].value_counts()"
      ],
      "metadata": {
        "id": "dqMXaVuhYj1E"
      },
      "execution_count": null,
      "outputs": []
    },
    {
      "cell_type": "code",
      "source": [
        "data['room_type'].value_counts()"
      ],
      "metadata": {
        "id": "32shbEoKZP31"
      },
      "execution_count": null,
      "outputs": []
    },
    {
      "cell_type": "code",
      "source": [
        "# Chart - 3 visualization code\n",
        "columns_to_plot =['neighbourhood_group','room_type']\n",
        "\n",
        "# Setup the figure and axes for the subplots\n",
        "fig, ax = plt.subplots(1,2, figsize=(10,5))  # Correct comment to match the grid setup\n",
        "ax = ax.flatten()  # Flatten the array to use single index\n",
        "\n",
        "# Loop over the columns and their corresponding axes\n",
        "for i, col in enumerate(columns_to_plot):\n",
        "    # Countplot for each categorical column\n",
        "    sns.countplot(x=data[col], ax=ax[i], color='red')\n",
        "    plt.setp(ax[i].get_xticklabels(), rotation=45)  # Rotate x labels for better readability\n",
        "\n",
        "plt.tight_layout()  # Adjust layout\n",
        "plt.show()"
      ],
      "metadata": {
        "id": "t6GMdE67YoAp"
      },
      "execution_count": null,
      "outputs": []
    },
    {
      "cell_type": "markdown",
      "source": [
        "##### 1. Why did you pick the specific chart?"
      ],
      "metadata": {
        "id": "fge-S5ZAYoAp"
      }
    },
    {
      "cell_type": "markdown",
      "source": [
        "To represent the frequency of categorical variables."
      ],
      "metadata": {
        "id": "5dBItgRVYoAp"
      }
    },
    {
      "cell_type": "markdown",
      "source": [
        "##### 2. What is/are the insight(s) found from the chart?"
      ],
      "metadata": {
        "id": "85gYPyotYoAp"
      }
    },
    {
      "cell_type": "markdown",
      "source": [
        "1. In neighbourhood group manhattan has highest number of counts and staten island has lowest number of count.\n",
        "2. most number of bookings are happening in entire home/apt, whereas least number of bookings are happening in shared room."
      ],
      "metadata": {
        "id": "4jstXR6OYoAp"
      }
    },
    {
      "cell_type": "markdown",
      "source": [
        "##### 3. Will the gained insights help creating a positive business impact?\n",
        "Are there any insights that lead to negative growth? Justify with specific reason."
      ],
      "metadata": {
        "id": "RoGjAbkUYoAp"
      }
    },
    {
      "cell_type": "markdown",
      "source": [
        "Yes the people are preffering entire home/apt, this suggest that we should prefer listings of entire home/apt through airbnb as much as possible.\n",
        "\n",
        "Bookings of shared rooms are least preffered by customers so we should avoid listing it."
      ],
      "metadata": {
        "id": "zfJ8IqMcYoAp"
      }
    },
    {
      "cell_type": "markdown",
      "source": [
        "**Hotel Price analysis**"
      ],
      "metadata": {
        "id": "31sSFWlnDYdS"
      }
    },
    {
      "cell_type": "code",
      "source": [
        "#Checking lowest end price of hotel\n",
        "data['price'].sort_values().head(20)"
      ],
      "metadata": {
        "id": "D4v5Pp9DDoFu"
      },
      "execution_count": null,
      "outputs": []
    },
    {
      "cell_type": "code",
      "source": [
        "#Checking highest end price of hotel\n",
        "data['price'].sort_values(ascending=False).head(20)"
      ],
      "metadata": {
        "id": "LmenpG9mDxdO"
      },
      "execution_count": null,
      "outputs": []
    },
    {
      "cell_type": "code",
      "source": [
        "#Removing hotels with zero prices\n",
        "non_zero_price=data[data['price']!=0]"
      ],
      "metadata": {
        "id": "gIFZOzD_D7xW"
      },
      "execution_count": null,
      "outputs": []
    },
    {
      "cell_type": "code",
      "source": [
        "#Checking five numbers only\n",
        "non_zero_price['price'].describe()"
      ],
      "metadata": {
        "id": "n_e6cCncEE76"
      },
      "execution_count": null,
      "outputs": []
    },
    {
      "cell_type": "markdown",
      "source": [
        "1. the average per night price of the hotel is 151.35\n",
        "2. the miniumum per night price of the hotel is 10\n",
        "3. the maximum per night price of the hotel is 10000\n",
        "4. 75 percentile value is 175 but maximum price is 10000 that means there is some values which is exceptional or outlier"
      ],
      "metadata": {
        "id": "gAnoOghmEQSw"
      }
    },
    {
      "cell_type": "markdown",
      "source": [
        " **Top 10 neighbourhood**"
      ],
      "metadata": {
        "id": "X6chiR7jEZ7g"
      }
    },
    {
      "cell_type": "markdown",
      "source": [
        "#### Chart - 4"
      ],
      "metadata": {
        "id": "4Of9eVA-YrdM"
      }
    },
    {
      "cell_type": "code",
      "source": [
        "#Creating a new dataframe with top 10 neighbourhoods\n",
        "neighbourhood_df=data['neighbourhood'].value_counts().head(10).reset_index()\n",
        "neighbourhood_df"
      ],
      "metadata": {
        "id": "LXdaVNFKEmWt"
      },
      "execution_count": null,
      "outputs": []
    },
    {
      "cell_type": "code",
      "source": [
        "# Chart - 4 visualization code\n",
        "plt.figure(figsize=(6, 4))\n",
        "sns.barplot(x='count', y='neighbourhood', data=neighbourhood_df, palette='viridis')\n",
        "plt.title('Number of Listings per Neighbourhood')\n",
        "plt.xlabel('Count')\n",
        "plt.ylabel('Neighbourhood')\n",
        "plt.show()"
      ],
      "metadata": {
        "id": "irlUoxc8YrdO"
      },
      "execution_count": null,
      "outputs": []
    },
    {
      "cell_type": "markdown",
      "source": [
        "##### 1. Why did you pick the specific chart?"
      ],
      "metadata": {
        "id": "iky9q4vBYrdO"
      }
    },
    {
      "cell_type": "markdown",
      "source": [
        "Answer Here."
      ],
      "metadata": {
        "id": "aJRCwT6DYrdO"
      }
    },
    {
      "cell_type": "markdown",
      "source": [
        "##### 2. What is/are the insight(s) found from the chart?"
      ],
      "metadata": {
        "id": "F6T5p64dYrdO"
      }
    },
    {
      "cell_type": "markdown",
      "source": [
        "Answer Here"
      ],
      "metadata": {
        "id": "Xx8WAJvtYrdO"
      }
    },
    {
      "cell_type": "markdown",
      "source": [
        "##### 3. Will the gained insights help creating a positive business impact?\n",
        "Are there any insights that lead to negative growth? Justify with specific reason."
      ],
      "metadata": {
        "id": "y-Ehk30pYrdP"
      }
    },
    {
      "cell_type": "markdown",
      "source": [
        "Answer Here"
      ],
      "metadata": {
        "id": "jLNxxz7MYrdP"
      }
    },
    {
      "cell_type": "markdown",
      "source": [
        "#### Chart - 5"
      ],
      "metadata": {
        "id": "bamQiAODYuh1"
      }
    },
    {
      "cell_type": "markdown",
      "source": [
        "**Geographical distribution**"
      ],
      "metadata": {
        "id": "OqngbZsSFSb_"
      }
    },
    {
      "cell_type": "code",
      "source": [
        "# Chart - 5 visualization code\n",
        "plt.scatter(data['longitude'], data['latitude'], c=data['price'], cmap='viridis')\n",
        "plt.colorbar(label='Price')\n",
        "plt.xlabel('Longitude')\n",
        "plt.ylabel('Latitude')\n",
        "plt.title('Geographical Distribution of Airbnb Listings')\n",
        "plt.show()"
      ],
      "metadata": {
        "id": "TIJwrbroYuh3"
      },
      "execution_count": null,
      "outputs": []
    },
    {
      "cell_type": "markdown",
      "source": [
        "##### 1. Why did you pick the specific chart?"
      ],
      "metadata": {
        "id": "QHF8YVU7Yuh3"
      }
    },
    {
      "cell_type": "markdown",
      "source": [
        "To see the geographical location of the hotels located."
      ],
      "metadata": {
        "id": "dcxuIMRPYuh3"
      }
    },
    {
      "cell_type": "markdown",
      "source": [
        "##### 2. What is/are the insight(s) found from the chart?"
      ],
      "metadata": {
        "id": "GwzvFGzlYuh3"
      }
    },
    {
      "cell_type": "markdown",
      "source": [
        "Most of the hotels are located in a particular region"
      ],
      "metadata": {
        "id": "uyqkiB8YYuh3"
      }
    },
    {
      "cell_type": "markdown",
      "source": [
        "##### 3. Will the gained insights help creating a positive business impact?\n",
        "Are there any insights that lead to negative growth? Justify with specific reason."
      ],
      "metadata": {
        "id": "qYpmQ266Yuh3"
      }
    },
    {
      "cell_type": "markdown",
      "source": [
        "we can analyze more locations where the demand may be high and list hotels to those locations"
      ],
      "metadata": {
        "id": "_WtzZ_hCYuh4"
      }
    },
    {
      "cell_type": "markdown",
      "source": [
        "#### Chart - 6"
      ],
      "metadata": {
        "id": "OH-pJp9IphqM"
      }
    },
    {
      "cell_type": "code",
      "source": [
        "#Creating pyplot to see the distributon of neighbourhood_group\n",
        "neighbourhood_group = data['neighbourhood_group']\n",
        "\n",
        "neighbourhood_value_count = neighbourhood_group.value_counts().plot.pie(autopct='%1.0f%%', shadow=True)"
      ],
      "metadata": {
        "id": "kuRf4wtuphqN"
      },
      "execution_count": null,
      "outputs": []
    },
    {
      "cell_type": "markdown",
      "source": [
        "##### 1. Why did you pick the specific chart?"
      ],
      "metadata": {
        "id": "bbFf2-_FphqN"
      }
    },
    {
      "cell_type": "markdown",
      "source": [
        "To see the distribution of neighbourhood_group.."
      ],
      "metadata": {
        "id": "loh7H2nzphqN"
      }
    },
    {
      "cell_type": "markdown",
      "source": [
        "##### 2. What is/are the insight(s) found from the chart?"
      ],
      "metadata": {
        "id": "_ouA3fa0phqN"
      }
    },
    {
      "cell_type": "markdown",
      "source": [
        "1. The highest percentage of neighbourhood group is of manhattan (44%).\n",
        "2. the lowest percentage of neighbourhood group is of staten island (1%)."
      ],
      "metadata": {
        "id": "VECbqPI7phqN"
      }
    },
    {
      "cell_type": "markdown",
      "source": [
        "##### 3. Will the gained insights help creating a positive business impact?\n",
        "Are there any insights that lead to negative growth? Justify with specific reason."
      ],
      "metadata": {
        "id": "Seke61FWphqN"
      }
    },
    {
      "cell_type": "markdown",
      "source": [
        "This shows that most number of customers are preferring to book hotels having neighbourhood groups as manhattan and brooklyn, this gives an idea of listing more hotels around these neighbourhood groups or surge the hotel prices."
      ],
      "metadata": {
        "id": "DW4_bGpfphqN"
      }
    },
    {
      "cell_type": "markdown",
      "source": [
        "#### Chart - 7"
      ],
      "metadata": {
        "id": "PIIx-8_IphqN"
      }
    },
    {
      "cell_type": "markdown",
      "source": [
        "**Checking top 10 hotels based on number of reviews**"
      ],
      "metadata": {
        "id": "Poz6WlcXK8S7"
      }
    },
    {
      "cell_type": "code",
      "source": [
        "# Sort the dataframe by number of reviews in descending order and get the top 10\n",
        "top_10_hotels = data.sort_values(by='number_of_reviews', ascending=False).head(10)"
      ],
      "metadata": {
        "id": "jIaQuAYmK3vK"
      },
      "execution_count": null,
      "outputs": []
    },
    {
      "cell_type": "code",
      "source": [
        "top_10_hotels"
      ],
      "metadata": {
        "collapsed": true,
        "id": "g24zRb4dLFi7"
      },
      "execution_count": null,
      "outputs": []
    },
    {
      "cell_type": "code",
      "source": [
        "# Chart - 7 visualization code\n",
        "# Create a bar plot\n",
        "plt.figure(figsize=(6, 4))\n",
        "sns.barplot(x='number_of_reviews', y='name', data=top_10_hotels, palette='viridis')\n",
        "plt.xlabel('Number of Reviews')\n",
        "plt.ylabel('Hotel Name')\n",
        "plt.title('Top 10 Most Reviewed Hotels')\n",
        "plt.show()"
      ],
      "metadata": {
        "id": "lqAIGUfyphqO"
      },
      "execution_count": null,
      "outputs": []
    },
    {
      "cell_type": "markdown",
      "source": [
        "##### 1. Why did you pick the specific chart?"
      ],
      "metadata": {
        "id": "t27r6nlMphqO"
      }
    },
    {
      "cell_type": "markdown",
      "source": [
        "Check top 10 most reviewed hotels."
      ],
      "metadata": {
        "id": "iv6ro40sphqO"
      }
    },
    {
      "cell_type": "markdown",
      "source": [
        "##### 2. What is/are the insight(s) found from the chart?"
      ],
      "metadata": {
        "id": "r2jJGEOYphqO"
      }
    },
    {
      "cell_type": "markdown",
      "source": [
        "Room near jkf queen bed is the most reviewed hotel."
      ],
      "metadata": {
        "id": "Po6ZPi4hphqO"
      }
    },
    {
      "cell_type": "markdown",
      "source": [
        "##### 3. Will the gained insights help creating a positive business impact?\n",
        "Are there any insights that lead to negative growth? Justify with specific reason."
      ],
      "metadata": {
        "id": "b0JNsNcRphqO"
      }
    },
    {
      "cell_type": "markdown",
      "source": [
        "Because they are most reviewed hotel that menas they are in demand then we can increase a little bit price for more profit."
      ],
      "metadata": {
        "id": "xvSq8iUTphqO"
      }
    },
    {
      "cell_type": "markdown",
      "source": [
        "**Airbnb review analysis**"
      ],
      "metadata": {
        "id": "rQ5i3b0lMGBy"
      }
    },
    {
      "cell_type": "markdown",
      "source": [
        "#### Chart - 8"
      ],
      "metadata": {
        "id": "BZR9WyysphqO"
      }
    },
    {
      "cell_type": "code",
      "source": [
        "data_review.head()"
      ],
      "metadata": {
        "id": "EJgryASUMn1c"
      },
      "execution_count": null,
      "outputs": []
    },
    {
      "cell_type": "code",
      "source": [
        "data_review['days_since_last_review'].sort_values(ascending=False).head(20)"
      ],
      "metadata": {
        "id": "4ArDx78jM2kO"
      },
      "execution_count": null,
      "outputs": []
    },
    {
      "cell_type": "code",
      "source": [
        "# Sort the dataframe by number of reviews in descending order and get the top 10\n",
        "top_10_hotels = data_review.sort_values(by='days_since_last_review', ascending=False).head(10)\n",
        "top_10_hotels\n"
      ],
      "metadata": {
        "collapsed": true,
        "id": "Nj0lAR9hNB45"
      },
      "execution_count": null,
      "outputs": []
    },
    {
      "cell_type": "code",
      "source": [
        "# Chart - 8 visualization code\n",
        "# Create a bar plot\n",
        "plt.figure(figsize=(6, 4))\n",
        "sns.barplot(x='days_since_last_review', y='name', data=top_10_hotels, palette='viridis')\n",
        "plt.xlabel('days since last review')\n",
        "plt.ylabel('Hotel Name')\n",
        "plt.title('Top 10 last Reviewed Hotels')\n",
        "plt.show()"
      ],
      "metadata": {
        "id": "TdPTWpAVphqO"
      },
      "execution_count": null,
      "outputs": []
    },
    {
      "cell_type": "markdown",
      "source": [
        "These are the hotels which have the most reviews_per_month thats why these hotels should be promoted and also price should be increase"
      ],
      "metadata": {
        "id": "rOVJEgrJNcq8"
      }
    },
    {
      "cell_type": "markdown",
      "source": [
        "##### 1. Why did you pick the specific chart?"
      ],
      "metadata": {
        "id": "jj7wYXLtphqO"
      }
    },
    {
      "cell_type": "markdown",
      "source": [
        "Answer Here."
      ],
      "metadata": {
        "id": "Ob8u6rCTphqO"
      }
    },
    {
      "cell_type": "markdown",
      "source": [
        "##### 2. What is/are the insight(s) found from the chart?"
      ],
      "metadata": {
        "id": "eZrbJ2SmphqO"
      }
    },
    {
      "cell_type": "markdown",
      "source": [
        "Answer Here"
      ],
      "metadata": {
        "id": "mZtgC_hjphqO"
      }
    },
    {
      "cell_type": "markdown",
      "source": [
        "##### 3. Will the gained insights help creating a positive business impact?\n",
        "Are there any insights that lead to negative growth? Justify with specific reason."
      ],
      "metadata": {
        "id": "rFu4xreNphqO"
      }
    },
    {
      "cell_type": "markdown",
      "source": [
        "Answer Here"
      ],
      "metadata": {
        "id": "ey_0qi68phqO"
      }
    },
    {
      "cell_type": "markdown",
      "source": [
        "#### Chart - 9"
      ],
      "metadata": {
        "id": "YJ55k-q6phqO"
      }
    },
    {
      "cell_type": "code",
      "source": [
        "# Sort the dataframe by reviews per month in descending order and get the top 10\n",
        "top_10_hotels = data_review.sort_values(by='reviews_per_month', ascending=False).head(10)\n",
        "\n",
        "# Create a bar plot\n",
        "plt.figure(figsize=(6, 4))\n",
        "sns.barplot(x='reviews_per_month', y='name', data=top_10_hotels, palette='viridis')\n",
        "plt.xlabel('reviews per month')\n",
        "plt.ylabel('Hotel Name')\n",
        "plt.title('Top 10 Reviewed per month Hotels')\n",
        "plt.show()"
      ],
      "metadata": {
        "id": "B2aS4O1ophqO"
      },
      "execution_count": null,
      "outputs": []
    },
    {
      "cell_type": "markdown",
      "source": [
        "##### 1. Why did you pick the specific chart?"
      ],
      "metadata": {
        "id": "gCFgpxoyphqP"
      }
    },
    {
      "cell_type": "markdown",
      "source": [
        "Answer Here."
      ],
      "metadata": {
        "id": "TVxDimi2phqP"
      }
    },
    {
      "cell_type": "markdown",
      "source": [
        "##### 2. What is/are the insight(s) found from the chart?"
      ],
      "metadata": {
        "id": "OVtJsKN_phqQ"
      }
    },
    {
      "cell_type": "markdown",
      "source": [
        "Answer Here"
      ],
      "metadata": {
        "id": "ngGi97qjphqQ"
      }
    },
    {
      "cell_type": "markdown",
      "source": [
        "##### 3. Will the gained insights help creating a positive business impact?\n",
        "Are there any insights that lead to negative growth? Justify with specific reason."
      ],
      "metadata": {
        "id": "lssrdh5qphqQ"
      }
    },
    {
      "cell_type": "markdown",
      "source": [
        "Answer Here"
      ],
      "metadata": {
        "id": "tBpY5ekJphqQ"
      }
    },
    {
      "cell_type": "markdown",
      "source": [
        " **Bivariate analysis**"
      ],
      "metadata": {
        "id": "4RykOnMUOQRf"
      }
    },
    {
      "cell_type": "markdown",
      "source": [
        "#### Chart - 10"
      ],
      "metadata": {
        "id": "U2RJ9gkRphqQ"
      }
    },
    {
      "cell_type": "code",
      "source": [
        "columns_to_plot=['neighbourhood_group','room_type']"
      ],
      "metadata": {
        "id": "4XwMUuspQwtJ"
      },
      "execution_count": null,
      "outputs": []
    },
    {
      "cell_type": "code",
      "source": [
        "# Chart - 10 visualization code\n",
        "# Setup the figure and axes for the subplots\n",
        "fig, ax = plt.subplots(1, 2, figsize=(8, 5))  # Correct comment to match the grid setup\n",
        "ax = ax.flatten()  # Flatten the array to use single index\n",
        "\n",
        "# Loop over the columns and their corresponding axes\n",
        "for i, col in enumerate(columns_to_plot):\n",
        "    # bar pot for each categorical column\n",
        "    sns.barplot(x=data[col],y=data['price'], ax=ax[i],palette='rainbow')\n",
        "    plt.setp(ax[i].get_xticklabels(), rotation=90)  # Rotate x labels for better readability\n",
        "\n",
        "plt.tight_layout()  # Adjust layout\n",
        "plt.show()"
      ],
      "metadata": {
        "id": "GM7a4YP4phqQ"
      },
      "execution_count": null,
      "outputs": []
    },
    {
      "cell_type": "markdown",
      "source": [
        "##### 1. Why did you pick the specific chart?"
      ],
      "metadata": {
        "id": "1M8mcRywphqQ"
      }
    },
    {
      "cell_type": "markdown",
      "source": [
        "To see the price distribution of hotels with neighbourhood group and room type."
      ],
      "metadata": {
        "id": "8agQvks0phqQ"
      }
    },
    {
      "cell_type": "markdown",
      "source": [
        "##### 2. What is/are the insight(s) found from the chart?"
      ],
      "metadata": {
        "id": "tgIPom80phqQ"
      }
    },
    {
      "cell_type": "markdown",
      "source": [
        "1. Average price of room type entire home /aprtment is high and shared room average price is low.\n",
        "2. Average price of neighbourhood_group manhattan is high and Bronyx average price is low.\n"
      ],
      "metadata": {
        "id": "Qp13pnNzphqQ"
      }
    },
    {
      "cell_type": "markdown",
      "source": [
        "##### 3. Will the gained insights help creating a positive business impact?\n",
        "Are there any insights that lead to negative growth? Justify with specific reason."
      ],
      "metadata": {
        "id": "JMzcOPDDphqR"
      }
    },
    {
      "cell_type": "markdown",
      "source": [
        "This will give an idea of price variation of different types of rooms and neighbourhood groups according to which decision can be made to control the price range of hotels"
      ],
      "metadata": {
        "id": "R4Ka1PC2phqR"
      }
    },
    {
      "cell_type": "markdown",
      "source": [
        "#### Chart - 11"
      ],
      "metadata": {
        "id": "x-EpHcCOp1ci"
      }
    },
    {
      "cell_type": "code",
      "source": [
        "# Chart - 11 visualization code\n",
        "# Creating a bar plot of the average price for each neighbourhood group and room type\n",
        "viz_3 = sns.catplot(x='neighbourhood_group', y='price', col='room_type', data=data, kind='bar', ci=None)\n",
        "viz_3.set_xticklabels(rotation=90)"
      ],
      "metadata": {
        "id": "mAQTIvtqp1cj"
      },
      "execution_count": null,
      "outputs": []
    },
    {
      "cell_type": "markdown",
      "source": [
        "##### 1. Why did you pick the specific chart?"
      ],
      "metadata": {
        "id": "X_VqEhTip1ck"
      }
    },
    {
      "cell_type": "markdown",
      "source": [
        "To see the distributon price for each neighbourhood group of each room type.."
      ],
      "metadata": {
        "id": "-vsMzt_np1ck"
      }
    },
    {
      "cell_type": "markdown",
      "source": [
        "##### 2. What is/are the insight(s) found from the chart?"
      ],
      "metadata": {
        "id": "8zGJKyg5p1ck"
      }
    },
    {
      "cell_type": "markdown",
      "source": [
        "Distributon price for each neighbourhood group of each room type is similar except for entire home and apartment wher the price of staten island is more as compare to queens and bronx."
      ],
      "metadata": {
        "id": "ZYdMsrqVp1ck"
      }
    },
    {
      "cell_type": "markdown",
      "source": [
        "#### Chart - 12"
      ],
      "metadata": {
        "id": "n3dbpmDWp1ck"
      }
    },
    {
      "cell_type": "code",
      "source": [
        "# Chart - 12 visualization code\n",
        "# Correlation Heatmap visualization code\n",
        "# Calculate the correlation matrix\n",
        "df=data.drop(['id','host_id','name','host_name','neighbourhood_group','neighbourhood','room_type'],axis=1)\n",
        "corr_matrix =df.corr()\n",
        "\n",
        "# Create a heatmap\n",
        "plt.figure(figsize=(6, 4))\n",
        "sns.heatmap(corr_matrix, annot=True, cmap='coolwarm', linewidths=0.5)\n",
        "plt.title('Correlation Heatmap')\n",
        "plt.show()"
      ],
      "metadata": {
        "id": "bwevp1tKp1ck"
      },
      "execution_count": null,
      "outputs": []
    },
    {
      "cell_type": "markdown",
      "source": [
        "##### 1. Why did you pick the specific chart?"
      ],
      "metadata": {
        "id": "ylSl6qgtp1ck"
      }
    },
    {
      "cell_type": "markdown",
      "source": [
        "To see the corelation between each variable."
      ],
      "metadata": {
        "id": "m2xqNkiQp1ck"
      }
    },
    {
      "cell_type": "markdown",
      "source": [
        "##### 2. What is/are the insight(s) found from the chart?"
      ],
      "metadata": {
        "id": "ZWILFDl5p1ck"
      }
    },
    {
      "cell_type": "markdown",
      "source": [
        "1. Latitude and Longitude:\n",
        "\n",
        "Latitude and longitude have a small positive correlation (0.084). This suggests that there is a slight relationship between these two geographical coordinates, but it is not strong.\n",
        "Price Correlations:\n",
        "\n",
        "2. Price has a negative correlation with longitude (-0.15), indicating that as longitude increases, the price tends to decrease slightly.\n",
        "Price has a very weak positive correlation with minimum nights (0.049), availability 365 (0.076), calculated host listings count (0.025), and latitude (0.034). These correlations are very weak, indicating that price is not strongly influenced by these variables.\n",
        "Minimum Nights:\n",
        "\n",
        "3. Minimum nights has a moderate positive correlation with calculated host listings count (0.23) and availability 365 (0.16). This suggests that listings that require a higher minimum number of nights are more likely to have more listings by the same host and be available throughout the year.\n",
        "Number of Reviews:\n",
        "\n",
        "4. Number of reviews has weak correlations with other variables. It has a weak positive correlation with longitude (0.054) and availability 365 (0.18), and a weak negative correlation with minimum nights (-0.091).\n",
        "Calculated Host Listings Count:\n",
        "\n",
        "5. This variable has a weak negative correlation with longitude (-0.048) and a weak positive correlation with availability 365 (0.26). This suggests that hosts with more listings tend to have properties that are more available throughout the year.\n",
        "Availability 365:\n",
        "\n",
        "6. Availability 365 shows the highest positive correlation with calculated host listings count (0.26), indicating that properties that are available more days in a year are likely to belong to hosts with multiple listings."
      ],
      "metadata": {
        "id": "x-lUsV2mp1ck"
      }
    },
    {
      "cell_type": "markdown",
      "source": [
        "##### 3. Will the gained insights help creating a positive business impact?\n",
        "Are there any insights that lead to negative growth? Justify with specific reason."
      ],
      "metadata": {
        "id": "M7G43BXep1ck"
      }
    },
    {
      "cell_type": "markdown",
      "source": [
        "Answer Here"
      ],
      "metadata": {
        "id": "5wwDJXsLp1cl"
      }
    },
    {
      "cell_type": "markdown",
      "source": [
        "#### Chart - 13"
      ],
      "metadata": {
        "id": "Ag9LCva-p1cl"
      }
    },
    {
      "cell_type": "code",
      "source": [
        "# Pair Plot visualization code\n",
        "# Create a pair plot\n",
        "sns.pairplot(data)\n",
        "plt.show()"
      ],
      "metadata": {
        "id": "EUfxeq9-p1cl"
      },
      "execution_count": null,
      "outputs": []
    },
    {
      "cell_type": "markdown",
      "source": [
        "##### 1. Why did you pick the specific chart?"
      ],
      "metadata": {
        "id": "E6MkPsBcp1cl"
      }
    },
    {
      "cell_type": "markdown",
      "source": [
        "To see the distribution beween each variables."
      ],
      "metadata": {
        "id": "V22bRsFWp1cl"
      }
    },
    {
      "cell_type": "markdown",
      "source": [
        "##### 2. What is/are the insight(s) found from the chart?"
      ],
      "metadata": {
        "id": "2cELzS2fp1cl"
      }
    },
    {
      "cell_type": "markdown",
      "source": [
        "There is no any such strong corelation between any features."
      ],
      "metadata": {
        "id": "ozQPc2_Ip1cl"
      }
    },
    {
      "cell_type": "markdown",
      "source": [
        "## **5. Solution to Business Objective**"
      ],
      "metadata": {
        "id": "JcMwzZxoAimU"
      }
    },
    {
      "cell_type": "markdown",
      "source": [
        "#### What do you suggest the client to achieve Business Objective ?\n",
        "Explain Briefly."
      ],
      "metadata": {
        "id": "8G2x9gOozGDZ"
      }
    },
    {
      "cell_type": "markdown",
      "source": [
        "1. Price Optimization:\n",
        "\n",
        "* Analyze and adjust pricing strategies to optimize revenue. Focus on the most frequent price range (0-500) while considering exceptional cases for premium pricing.\n",
        "* Implement dynamic pricing models for hotels available only seasonally (e.g., summer vacation bookings).\n",
        "\n",
        "2. Market Expansion and Distribution:\n",
        "\n",
        "* Address the uneven distribution of hotels across different regions. Strategically increase the presence in regions with lower counts, like Staten Island, to balance market coverage.\n",
        "* Increase marketing efforts in regions with lower hotel counts to attract more bookings.\n",
        "\n",
        "3. Room Type Strategy:\n",
        "\n",
        "* Leverage the high demand for entire home/apartment bookings by expanding the inventory in this category.\n",
        "* Develop targeted marketing campaigns to increase the bookings for shared rooms, which currently have the least number of bookings.\n",
        "\n",
        "4. Location-Based Pricing Strategy:\n",
        "\n",
        "* Capitalize on the high average prices in Manhattan by offering premium services and amenities to justify higher rates.\n",
        "* Explore competitive pricing strategies in regions like Bronx where the average price is lower.\n",
        "\n",
        "5. Enhancing Reviews and Ratings:\n",
        "\n",
        "* Encourage guest reviews, especially for high-demand hotels like the one near JFK with the queen bed, to maintain and enhance reputation and visibility.\n",
        "\n",
        "6. Correlation Insights:\n",
        "\n",
        "*. Utilize the correlation data to understand the factors influencing pricing and availability. For example, use the positive correlation between minimum nights and calculated host listings count to encourage longer stays for multi-listing hosts."
      ],
      "metadata": {
        "id": "pASKb0qOza21"
      }
    },
    {
      "cell_type": "markdown",
      "source": [
        "# **Conclusion**"
      ],
      "metadata": {
        "id": "gCX9965dhzqZ"
      }
    },
    {
      "cell_type": "markdown",
      "source": [
        "From the data analysis, several key insights have emerged:\n",
        "\n",
        "1. Price and Outliers:\n",
        "\n",
        "* By removing outliers, we achieved a more accurate and unbiased average price, enhancing the reliability of our insights.\n",
        "\n",
        "2. Regional Distribution:\n",
        "\n",
        "* The majority of hotel data comes from a specific region, highlighting an opportunity to expand and diversify our geographical presence.\n",
        "\n",
        "3. Seasonal Availability:\n",
        "\n",
        "* Some hotels are only available seasonally, suggesting a potential for optimizing revenue during peak seasons.\n",
        "\n",
        "4. Booking Preferences:\n",
        "\n",
        "* Entire home/apartment bookings dominate, indicating a preference that can be leveraged for business growth.\n",
        "\n",
        "5. Regional Price Variations:\n",
        "\n",
        "* Manhattan has the highest percentage of listings and the highest average prices, while Staten Island has the lowest. This points to potential market expansion and pricing strategy adjustments.\n",
        "\n",
        "6. Review Trends:\n",
        "\n",
        "* The most reviewed hotel is a key asset, and encouraging more reviews can enhance overall business visibility and credibility.\n",
        "\n",
        "7. Correlation Analysis:\n",
        "\n",
        "* The correlations between various factors such as price, longitude, and availability provide insights for refining pricing and availability strategies. For instance, the slight negative correlation between price and longitude suggests potential for pricing adjustments based on location.\n",
        "\n",
        "By aligning our business strategies with these insights, we can optimize revenue, improve market coverage, and enhance customer satisfaction."
      ],
      "metadata": {
        "id": "Fjb1IsQkh3yE"
      }
    },
    {
      "cell_type": "markdown",
      "source": [
        "### ***Hurrah! You have successfully completed your EDA Capstone Project !!!***"
      ],
      "metadata": {
        "id": "gIfDvo9L0UH2"
      }
    }
  ]
}